{
 "cells": [
  {
   "cell_type": "markdown",
   "id": "cca62fbd",
   "metadata": {},
   "source": [
    "## Machine learning Assignment 1 solutions\n",
    "\n",
    "### 1.\tWhat does one mean by the term \"machine learning\"?\n",
    "\n",
    "Machine learning is the subset of Artificial Intelligence and in this the machine learning as the way humans do. But the machine uses mathematical equations to learn about the dataset and Deep learning is a subset of machine learning.\n",
    "There are 3 types of ML:\n",
    "Supervised, Unsupervised and reinforcement machine learning\n",
    "\n",
    "### 2.\tCan you think of 4 distinct issues where it shines?\n",
    "\n",
    "Dealing with large and complex data set, it can predict future from the past patterns(it’s not always accurate), better than traditional, helps in estimating future course of action \n",
    "\n",
    "### 3.\tWhat is a labelled training set, and how does it work?\n",
    "\n",
    "Labelled training data set is the data set which is the output needed by the user and accuracy is calculated on the basis of labelled training data set. As, the machine is trained so that it can find the labelled data set from features data set.\n",
    "\n",
    "### 4.\tWhat are the two most important tasks that are supervised?\n",
    "\n",
    "Classification and Regression\n",
    "\n",
    "### 5.\tCan you think of four examples of unsupervised tasks?\n",
    "\n",
    "Clustering,  Dimensional Reduction, visualization and association rule learning\n",
    "\n",
    "### 6.\tState the machine learning model that would be best to make a robot walk through various unfamiliar terrains?\n",
    "\n",
    "Reinforcement learning.\n",
    "\n",
    "### 7.\tWhich algorithm will you use to divide your customers into different groups?\n",
    "\n",
    "I will be using Unsupervised learning algorithm to group all the customers together.\n",
    "\n",
    "### 8.\tWill you consider the problem of spam detection to be a supervised or unsupervised learning problem?\n",
    "\n",
    "I will consider Supervised learning because labels will be provided if it is spam or not spam\n",
    "\n",
    "### 9.\tWhat is the concept of an online learning system?\n",
    "\n",
    "Machines learn as the data is given in small amount of data set continuously.\n",
    "\n",
    "### 10.\tWhat is out-of-core learning, and how does it differ from core learning?\n",
    "\n",
    "Out of core learning means when the data can’t be fit into main memory as it’s too large\n",
    "\n",
    "### 11.\tWhat kind of learning algorithm makes predictions using a similarity measure?\n",
    "\n",
    "Instance based algorithm\n",
    "\n",
    "### 12.\tWhat's the difference between a model parameter and a hyperparameter in a learning algorithm?\n",
    "\n",
    "Model parameter is the parameter, if by changing it’s value the output will remain same, while hyper parameter is in which programmer has to test out different values for the same input and one of the best will give the best output.\n",
    "\n",
    "### 13. What are the criteria that model-based learning algorithms look for? What is the most popular method they use to achieve success? What method do they use to make predictions?\n",
    "\n",
    "Model based algorithm search for best parameters provided by the user(hyper parameter tuning) so that they can receive the best output.\n",
    "\n",
    "The method to achieve success is that they use cost or loss function in order to find the error, these function should be near to 0 as it will increase the accuracy as well.\n",
    "They make predictions by the new instances and by the use of best parameters provided.\n",
    "\n"
   ]
  },
  {
   "cell_type": "code",
   "execution_count": null,
   "id": "9d65dae8",
   "metadata": {},
   "outputs": [],
   "source": []
  }
 ],
 "metadata": {
  "kernelspec": {
   "display_name": "Python 3 (ipykernel)",
   "language": "python",
   "name": "python3"
  },
  "language_info": {
   "codemirror_mode": {
    "name": "ipython",
    "version": 3
   },
   "file_extension": ".py",
   "mimetype": "text/x-python",
   "name": "python",
   "nbconvert_exporter": "python",
   "pygments_lexer": "ipython3",
   "version": "3.9.10"
  }
 },
 "nbformat": 4,
 "nbformat_minor": 5
}
